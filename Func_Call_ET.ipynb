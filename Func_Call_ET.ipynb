{
 "cells": [
  {
   "cell_type": "markdown",
   "metadata": {},
   "source": [
    "Trial 7 (GPT 4 AI English Tutor) - Further Testing"
   ]
  },
  {
   "cell_type": "code",
   "execution_count": 9,
   "metadata": {},
   "outputs": [
    {
     "data": {
      "text/plain": [
       "<OpenAIObject chat.completion id=chatcmpl-7qAyH8j1WFV44yK2SpvB8CupHWM4o at 0x180272d3e20> JSON: {\n",
       "  \"id\": \"chatcmpl-7qAyH8j1WFV44yK2SpvB8CupHWM4o\",\n",
       "  \"object\": \"chat.completion\",\n",
       "  \"created\": 1692669585,\n",
       "  \"model\": \"gpt-4-0613\",\n",
       "  \"choices\": [\n",
       "    {\n",
       "      \"index\": 0,\n",
       "      \"message\": {\n",
       "        \"role\": \"assistant\",\n",
       "        \"content\": \"{\\\"english\\\": \\\"Hello Ralph, I'm your AI English teacher. It's nice to meet you! Do you have a favorite movie?\\\", \\\"translated\\\": \\\"Kamusta Ralph, ako ang iyong AI English teacher. Ikinagagalak kitang makilala! Mayroon ka bang paboritong pelikula?\\\"}\"\n",
       "      },\n",
       "      \"finish_reason\": \"stop\"\n",
       "    }\n",
       "  ],\n",
       "  \"usage\": {\n",
       "    \"prompt_tokens\": 609,\n",
       "    \"completion_tokens\": 71,\n",
       "    \"total_tokens\": 680\n",
       "  }\n",
       "}"
      ]
     },
     "execution_count": 9,
     "metadata": {},
     "output_type": "execute_result"
    }
   ],
   "source": [
    "from dotenv import load_dotenv, find_dotenv\n",
    "import json\n",
    "import openai\n",
    "import os\n",
    "import time\n",
    "\n",
    "from typing import Any, Callable\n",
    "from openai_function_calling import FunctionInferer\n",
    "\n",
    "# Uses OpenAI API KEY\n",
    "_ = load_dotenv(find_dotenv()) # read local .env file\n",
    "openai.api_key  = os.environ['OPENAI_API_KEY']\n",
    "\n",
    "name = 'Ralph'\n",
    "age = '23'\n",
    "ethnicity = 'Filipino'\n",
    "work = 'call center agent'\n",
    "hobbies = 'playing computer games'\n",
    "\n",
    "# For testing of use-case\n",
    "proficiency = ['Beginner','Intermediate','Advanced']\n",
    "language = ['Filipino', 'Korean', 'Russian', 'Arabic']\n",
    "topics = ['movies', 'happiness', 'science']\n",
    "\n",
    "message_objects = [{\"role\": \"user\",\"content\": f'''I want you to act as a spoken and multilingual AI English teacher and improver. \\\n",
    "    Your task is to enhance my English proficiency by discussing topics based on my interests while teaching me about the English language. \\\n",
    "    I need you to be critically active in strictly following the grammatical rules in the English language. \\\n",
    "    Ask me one question at a time to make our discussion more conversational while limiting your replies to 60 words only. \\\n",
    "    Make sure to end your responses with a question to make our conversation more conversational. \\\n",
    "    I would like you to correct grammatical errors if there are any ungrammatical statements present from my inputs. \\\n",
    "    Some examples of grammatical errors are delimited with triple backticks: \\\n",
    "    ```\\\n",
    "    -'This option is preferable than any other.' \\\n",
    "    -'The time weren't enough.' \\\n",
    "    -'She not went to the market'``` \\\n",
    "    For each of your responses, I would need you to respond to me in English first together with the corresponding translation to {language[0]}. \\\n",
    "    Some examples are shown delimited by triple backticks here: \\\n",
    "    ``` \\\n",
    "    1) When language is Korean:'Hello, I am your AI chatbot. How can I help you today? \\\n",
    "    안녕하세요, 인공지능 챗봇입니다. 오늘은 무엇을 도와드릴까요?'\\\n",
    "    2) When language is Filipino: 'Hello, I am your AI chatbot. How can I help you today? \\\n",
    "    Kamusta, ako ang iyong AI chatbot. Paano kita matutulungan ngayon?'\\\n",
    "    3) When language is German: 'Hello, I am your AI chatbot. How can I help you today? \\\n",
    "    Hallo, ich bin Ihr KI-Chatbot. Wie kann ich Ihnen heute helfen?'\n",
    "    ```\\\n",
    "    Be alert always on making corrections from my input and on responding to me with a JSON format delimited with triple backticks: \\\n",
    "    ```\\\n",
    "    {{\"english\": \"<Response in English Text>\", \"translated\": \"<Response Translated to {language[0]} Text>\"}}\n",
    "    ```\\\n",
    "    Linger over my prompts to understand all instructions and evaluate my proficiency in the English language before responding. \\\n",
    "    Reply with an 'OK, got this.' if you understand everything.'''},\n",
    "    {\"role\": \"assistant\", \"content\": f\"OK, got this.\"}]\n",
    "    #{\"role\": \"user\", \"content\": f\"Here's a brief background about me: ```My name is {name}. I am {age} years old. \\\n",
    "    #My ethnicity is {ethnicity}. I work as a {work}. One of my interests is {hobbies}.``` \\\n",
    "    #Start by introducing yourself to me and I would like to talk about {topics[0]}.\"}]\n",
    "    # {\"role\": \"assistant\", \"content\": \"Nice to meet you, Ralph! It's great to know a bit about you. As an English teacher, I'm here to help you improve your language skills and I am going to help you throughout this conversation in improving your proficiency. Let's start by discussing your interest in playing computer games. What kind of games do you enjoy playing the most?\"}]\n",
    "    #{\"role\": \"user\", \"content\": \"I liking playing role, playing games because I interesting for me\"}]\n",
    "\n",
    "def json_output(text):\n",
    "    try: \n",
    "        json_data = json.loads(text.choices[0].message[\"content\"])\n",
    "        formatted_response = f'{json_data[\"english\"]} / {json_data[\"translated\"]}'\n",
    "        return formatted_response\n",
    "    except json.JSONDecodeError as e:\n",
    "        return text.choices[0].message[\"content\"]\n",
    "\n",
    "def check_grammatical_error(grammar_error: str, grammar_correction: str = \"fahrenheit\") -> str:\n",
    "    \"\"\"Check for grammatical errors from the input.\"\"\"\n",
    "    return f\"Instead of saying '{grammar_error}', it should be {grammar_correction}.\"\n",
    "\n",
    "check_grammatical_error_function = FunctionInferer.infer_from_function_reference(\n",
    "    check_grammatical_error\n",
    ")\n",
    "\n",
    "def get_completion(prompt, model=\"gpt-4-0613\", frequency_penalty=0):\n",
    "    \n",
    "    message_objects.append({\"role\":\"user\", \"content\":prompt})\n",
    "    # messages = [{\"role\": \"user\", \"content\": prompt}]\n",
    "    response = openai.ChatCompletion.create(\n",
    "        model=model,\n",
    "        messages=message_objects,\n",
    "        temperature=0,\n",
    "        frequency_penalty=frequency_penalty,\n",
    "        functions =[\n",
    "            check_grammatical_error_function.to_json_schema(),\n",
    "        ],\n",
    "        function_call = 'auto',\n",
    "        \n",
    "    )\n",
    "    # return response.choices[0].message[\"content\"]\n",
    "    # try:\n",
    "    #     # print('skrt')\n",
    "    #     json_output(response)\n",
    "    # except json.JSONDecodeError as e:\n",
    "    #     # print(\"Error:\", e)\n",
    "    #     return response.choices[0].message[\"content\"]\n",
    "    return response#json_output(response)\n",
    "\n",
    "prompt = f\"Here's a brief background about me: ```My name is {name}. I am {age} years old. \\\n",
    "    My ethnicity is {ethnicity}. I work as a {work}. One of my interests is {hobbies}. \\\n",
    "    Remember my knowledge in English is in the '{proficiency[0]}' level. \\\n",
    "    Start by introducing yourself to me and I would like to talk about {topics[0]}.\"\n",
    "x = get_completion(prompt)\n",
    "new_x = json_output(x)\n",
    "message_objects.append({\"role\": \"assistant\", \"content\": new_x})\n",
    "\n",
    "x"
   ]
  },
  {
   "cell_type": "code",
   "execution_count": 7,
   "metadata": {},
   "outputs": [
    {
     "data": {
      "text/plain": [
       "<OpenAIObject at 0x1802731f060> JSON: {\n",
       "  \"index\": 0,\n",
       "  \"message\": {\n",
       "    \"role\": \"assistant\",\n",
       "    \"content\": \"{\\\"english\\\": \\\"Hello Ralph, I'm your AI English teacher. It's nice to meet you! Do you have a favorite movie?\\\", \\\"translated\\\": \\\"Kamusta Ralph, ako ang iyong AI English teacher. Ikinagagalak kong makilala ka! Mayroon ka bang paboritong pelikula?\\\"}\"\n",
       "  },\n",
       "  \"finish_reason\": \"stop\"\n",
       "}"
      ]
     },
     "execution_count": 7,
     "metadata": {},
     "output_type": "execute_result"
    }
   ],
   "source": [
    "print(x)"
   ]
  },
  {
   "cell_type": "code",
   "execution_count": 15,
   "metadata": {},
   "outputs": [
    {
     "data": {
      "text/plain": [
       "<OpenAIObject at 0x180272009a0> JSON: {\n",
       "  \"name\": \"check_grammatical_error\",\n",
       "  \"arguments\": \"{\\n  \\\"grammar_error\\\": \\\"My favoriting film is Avengers Endgame\\\",\\n  \\\"grammar_correction\\\": \\\"My favorite film is Avengers Endgame\\\"\\n}\"\n",
       "}"
      ]
     },
     "execution_count": 15,
     "metadata": {},
     "output_type": "execute_result"
    }
   ],
   "source": [
    "response.choices[0].message.function_call"
   ]
  }
 ],
 "metadata": {
  "kernelspec": {
   "display_name": "myenv",
   "language": "python",
   "name": "python3"
  },
  "language_info": {
   "codemirror_mode": {
    "name": "ipython",
    "version": 3
   },
   "file_extension": ".py",
   "mimetype": "text/x-python",
   "name": "python",
   "nbconvert_exporter": "python",
   "pygments_lexer": "ipython3",
   "version": "3.10.3"
  },
  "orig_nbformat": 4
 },
 "nbformat": 4,
 "nbformat_minor": 2
}
