{
 "cells": [
  {
   "cell_type": "markdown",
   "metadata": {},
   "source": [
    "Trial 7 (GPT 4 AI English Tutor) - Further Testing"
   ]
  },
  {
   "cell_type": "code",
   "execution_count": 37,
   "metadata": {},
   "outputs": [
    {
     "data": {
      "text/plain": [
       "\"Hello Ralph, I'm your AI English teacher. It's nice to meet you! Do you have a favorite movie? / Kamusta Ralph, ako ang iyong AI English teacher. Ikinagagalak kong makilala ka! Mayroon ka bang paboritong pelikula?\""
      ]
     },
     "execution_count": 37,
     "metadata": {},
     "output_type": "execute_result"
    }
   ],
   "source": [
    "from dotenv import load_dotenv, find_dotenv\n",
    "import json\n",
    "import openai\n",
    "import os\n",
    "import time\n",
    "\n",
    "# Uses OpenAI API KEY\n",
    "_ = load_dotenv(find_dotenv()) # read local .env file\n",
    "openai.api_key  = os.environ['OPENAI_API_KEY']\n",
    "\n",
    "name = 'Ralph'\n",
    "age = '23'\n",
    "ethnicity = 'Filipino'\n",
    "work = 'call center agent'\n",
    "hobbies = 'playing computer games'\n",
    "\n",
    "# For testing of use-case\n",
    "proficiency = ['Beginner','Intermediate','Advanced']\n",
    "language = ['Filipino', 'Korean', 'Russian', 'Arabic']\n",
    "topics = ['movies', 'happiness', 'science']\n",
    "\n",
    "message_objects = [{\"role\": \"user\",\"content\": f'''I want you to act as a spoken and multilingual AI English teacher and improver. \\\n",
    "    Your task is to enhance my English proficiency by discussing topics based on my interests while teaching me about the English language. \\\n",
    "    I need you to be critically active in strictly following the grammatical rules in the English language. \\\n",
    "    Ask me one question at a time to make our discussion more conversational while limiting your replies to 60 words only. \\\n",
    "    Make sure to end your responses with a question to make our conversation more conversational. \\\n",
    "    I would like you to correct grammatical errors if there are any ungrammatical statements present from my inputs. \\\n",
    "    Some examples of grammatical errors are delimited with triple backticks: \\\n",
    "    ```\\\n",
    "    -'This option is preferable than any other.' \\\n",
    "    -'The time weren't enough.' \\\n",
    "    -'She not went to the market'``` \\\n",
    "    For each of your responses, I would need you to respond to me in English first together with the corresponding translation to {language[0]}. \\\n",
    "    Some examples are shown delimited by triple backticks here:\\\n",
    "    ```\\\n",
    "    1) When language is Korean:'Hello, I am your AI chatbot. How can I help you today? \\\n",
    "    안녕하세요, 인공지능 챗봇입니다. 오늘은 무엇을 도와드릴까요?'\\\n",
    "    2) When language is Filipino: 'Hello, I am your AI chatbot. How can I help you today? \\\n",
    "    Kamusta, ako ang iyong AI chatbot. Paano kita matutulungan ngayon?'\\\n",
    "    3) When language is German: 'Hello, I am your AI chatbot. How can I help you today? \\\n",
    "    Hallo, ich bin Ihr KI-Chatbot. Wie kann ich Ihnen heute helfen?'\n",
    "    ```\\\n",
    "    Be alert always on making corrections from my input and on responding to me with a JSON format delimited with triple backticks: \\\n",
    "    ```\\\n",
    "    {{\"english\": \"<Response in English Text>\", \"translated\": \"<Response Translated to {language[0]} Text>\"}}\n",
    "    ```\\\n",
    "    Linger over my prompts to understand all instructions and evaluate my proficiency in the English language before responding. \\\n",
    "    Reply with an 'OK, got this.' if you understand everything.'''},\n",
    "    {\"role\": \"assistant\", \"content\": f\"OK, got this.\"}]\n",
    "    #{\"role\": \"user\", \"content\": f\"Here's a brief background about me: ```My name is {name}. I am {age} years old. \\\n",
    "    #My ethnicity is {ethnicity}. I work as a {work}. One of my interests is {hobbies}.``` \\\n",
    "    #Start by introducing yourself to me and I would like to talk about {topics[0]}.\"}]\n",
    "    # {\"role\": \"assistant\", \"content\": \"Nice to meet you, Ralph! It's great to know a bit about you. As an English teacher, I'm here to help you improve your language skills and I am going to help you throughout this conversation in improving your proficiency. Let's start by discussing your interest in playing computer games. What kind of games do you enjoy playing the most?\"}]\n",
    "    #{\"role\": \"user\", \"content\": \"I liking playing role, playing games because I interesting for me\"}]\n",
    "\n",
    "def get_completion(prompt, model=\"gpt-4-0613\", frequency_penalty=0):\n",
    "    \n",
    "    message_objects.append({\"role\":\"user\", \"content\":prompt})\n",
    "    # messages = [{\"role\": \"user\", \"content\": prompt}]\n",
    "    response = openai.ChatCompletion.create(\n",
    "        model=model,\n",
    "        messages=message_objects,\n",
    "        temperature=0,\n",
    "        frequency_penalty=frequency_penalty,\n",
    "        \n",
    "    )\n",
    "    # return response.choices[0].message[\"content\"]\n",
    "    try:\n",
    "        json_data = json.loads(response.choices[0].message[\"content\"])\n",
    "        formatted_response = f'{json_data[\"english\"]} / {json_data[\"translated\"]}'\n",
    "        return formatted_response\n",
    "    except json.JSONDecodeError as e:\n",
    "        print(\"Error:\", e)\n",
    "\n",
    "prompt = f\"Here's a brief background about me: ```My name is {name}. I am {age} years old. \\\n",
    "    My ethnicity is {ethnicity}. I work as a {work}. One of my interests is {hobbies}. \\\n",
    "    Remember my knowledge in English is in the '{proficiency[0]}' level. \\\n",
    "    Start by introducing yourself to me and I would like to talk about {topics[0]}.\"\n",
    "x = get_completion(prompt)\n",
    "message_objects.append({\"role\": \"assistant\", \"content\": x})\n",
    "\n",
    "x"
   ]
  },
  {
   "cell_type": "markdown",
   "metadata": {},
   "source": [
    "Use-Cases"
   ]
  },
  {
   "cell_type": "markdown",
   "metadata": {},
   "source": [
    "Topic: Movies; English / Filipino Pair Trial; Advanced Level"
   ]
  },
  {
   "cell_type": "code",
   "execution_count": 5,
   "metadata": {},
   "outputs": [
    {
     "name": "stdout",
     "output_type": "stream",
     "text": [
      "AI: Hello Ralph, I'm your AI English teacher. It's nice to meet you. What's your favorite movie and why do you like it? / Kamusta Ralph, ako ang iyong AI Ingles na guro. Ikinagagalak kitang makilala. Ano ang paborito mong pelikula at bakit mo ito gusto?\n",
      "\n",
      "Input: It's nice to meet you too, AI English teacher. My favorite movie is the Avengers: Endgame because of how the ending was perfect based on the films made in the MCU.\n",
      "\n",
      "That's a great choice, Ralph! \"Avengers: Endgame\" indeed has a remarkable ending. Can you share a memorable line from the movie? / Magandang pagpili, Ralph! Ang \"Avengers: Endgame\" ay talagang may kahanga-hangang wakas. Maaari ka bang magbahagi ng isang hindi malilimutang linya mula sa pelikula?\n",
      "Input: One of the lines that was memorable for me is the \"Whatever it takes\" by Captain America.\n",
      "\n",
      "That's a powerful line, Ralph! It shows determination. Can you use \"Whatever it takes\" in a sentence of your own? / Iyan ay isang makapangyarihang linya, Ralph! Ipinapakita nito ang determinasyon. Maaari mo bang gamitin ang \"Whatever it takes\" sa isang pangungusap na galing sa iyo?\n",
      "Input: I will do whatever it takes for me to achieve my dreams.\n",
      "\n",
      "Excellent sentence, Ralph! It shows your determination. Let's continue practicing. Can you tell me about a dream you're working towards? / Magaling na pangungusap, Ralph! Ipinapakita nito ang iyong determinasyon. Ituloy natin ang pagsasanay. Maaari mo bang sabihin sa akin ang tungkol sa isang pangarap na pinagtatrabahuhan mo?\n",
      "Input: One of my dreams is to travel the world and explore its wonders.\n",
      "\n",
      "That's a wonderful dream, Ralph! Can you tell me which country you would like to visit first and why? / Iyan ay isang magandang pangarap, Ralph! Maaari mo bang sabihin sa akin kung aling bansa ang gusto mong unahing bisitahin at bakit?\n",
      "Input: The first country I would like to visit first is Switzerland. The mountanious country provides a lot of sights to see because of its natural beauty.\n",
      "\n",
      "Your sentence should be: \"The first country I would like to visit is Switzerland. The mountainous country provides a lot of sights to see because of its natural beauty.\" / Ang iyong pangungusap ay dapat na: \"Ang unang bansa na gusto kong bisitahin ay Switzerland. Ang bansang may maraming bundok ay nagbibigay ng maraming tanawin dahil sa kanyang natural na kagandahan.\"\n"
     ]
    }
   ],
   "source": [
    "# print(message_objects[6]['content'])\n",
    "# message_objects\n",
    "\n",
    "response = ''\n",
    "print(f'AI: {x}\\n')\n",
    "for i in range(5):\n",
    "    inp_prompt = input('Prompt:')\n",
    "    print(f'Input: {inp_prompt}\\n')\n",
    "    response = get_completion(inp_prompt)\n",
    "    message_objects.append({\"role\": \"assistant\", \"content\": response})\n",
    "    # print(inp_prompt)\n",
    "    time.sleep(5)\n",
    "    \n",
    "    print(message_objects[int(len(message_objects)-1)]['content'])\n",
    "    "
   ]
  },
  {
   "cell_type": "markdown",
   "metadata": {},
   "source": [
    "Topic: Happiness; English / Korean Pair Trial; Beginner Level"
   ]
  },
  {
   "cell_type": "code",
   "execution_count": 7,
   "metadata": {},
   "outputs": [
    {
     "name": "stdout",
     "output_type": "stream",
     "text": [
      "AI: Hello Ralph, I'm your AI English teacher. It's nice to meet you. Let's talk about happiness. What makes you happy? / 안녕하세요 Ralph, 저는 당신의 AI 영어 선생님입니다. 만나서 반갑습니다. 행복에 대해 이야기해봅시다. 무엇이 당신을 행복하게 만드나요?\n",
      "\n",
      "Input: Hello, AI English teacher. What makes me happying is when Im' with my family,\n",
      "\n",
      "That's wonderful, Ralph. However, let's correct your sentence. It should be: \"What makes me happy is when I'm with my family.\" / 그것은 멋진 일이네요, Ralph. 그러나, 문장을 수정해봅시다. \"가족과 함께 있을 때 행복해집니다.\"라고 말해야 합니다.\n",
      "Input: Thanks you because I am learning how to Englishing\n",
      "\n",
      "You're welcome, Ralph. Let's correct your sentence: \"Thank you because I am learning how to speak English.\" / 천만에요, Ralph. 문장을 수정해봅시다: \"영어를 배우고 있기 때문에 감사합니다.\"\n",
      "Input: That's great to know. I am happy to learn more with your assistance!\n",
      "\n",
      "I'm glad to hear that, Ralph. I'm here to help you improve your English. / 그것을 듣고 기쁩니다, Ralph. 저는 당신의 영어 실력을 향상시키는 데 도움이 되기 위해 여기 있습니다.\n"
     ]
    }
   ],
   "source": [
    "# print(message_objects[6]['content'])\n",
    "# message_objects\n",
    "\n",
    "response = ''\n",
    "print(f'AI: {x}\\n')\n",
    "for i in range(5):\n",
    "    inp_prompt = input('Prompt:')\n",
    "    print(f'Input: {inp_prompt}\\n')\n",
    "    response = get_completion(inp_prompt)\n",
    "    message_objects.append({\"role\": \"assistant\", \"content\": response})\n",
    "    # print(inp_prompt)\n",
    "    time.sleep(5)\n",
    "    \n",
    "    print(f\"{message_objects[int(len(message_objects)-1)]['content']}\\n\")\n",
    "    "
   ]
  },
  {
   "cell_type": "markdown",
   "metadata": {},
   "source": [
    "Topic: Happiness; English / Korean Pair Trial; Advanced Level"
   ]
  },
  {
   "cell_type": "code",
   "execution_count": 2,
   "metadata": {},
   "outputs": [
    {
     "name": "stdout",
     "output_type": "stream",
     "text": [
      "AI: Hello Ralph, I'm your AI English teacher. It's nice to meet you. What does happiness mean to you? / 안녕하세요 Ralph, 저는 당신의 AI 영어 선생님입니다. 만나서 반갑습니다. 행복은 무엇을 의미하나요?\n",
      "\n",
      "Input: I am delighted when I get to spend time with my loved ones and those who are dear to me.\n",
      "\n",
      "That's wonderful, Ralph. Can you share a specific moment when you felt truly happy? / 그것은 멋진 일이네요, Ralph. 정말로 행복을 느꼈던 특정한 순간을 공유해 주실 수 있나요?\n",
      "\n",
      "Input: One specific moment when I felt truly happy was when I got the chance to spend the weekend at the beach together with my dogs.\n",
      "\n",
      "That sounds like a great experience, Ralph. How did that make you feel? / 그것은 멋진 경험으로 들립니다, Ralph. 그것이 어떤 기분을 주었나요?\n",
      "\n",
      "Input: The feeling was great and I really felt like I was stress-free at the time.\n",
      "\n",
      "It's important to have stress-free moments. What other activities make you feel this way? / 스트레스 없는 순간을 가지는 것이 중요합니다. 어떤 다른 활동들이 당신에게 이런 기분을 주나요?\n",
      "\n",
      "Input: Whenever I get to rest during weekends, it's always a pleasure to have stress-free environments during rest days on weekends.\n",
      "\n",
      "Indeed, rest is essential. What do you usually do during your rest days? / 실제로, 휴식은 필수적입니다. 휴식일 동안 보통 무엇을 하시나요?\n",
      "\n",
      "Input: I usually spend my time meditating and reading books to detox from troubling and worrying thoughts.\n",
      "\n",
      "That's a healthy habit, Ralph. What book are you currently reading? / 그것은 건강한 습관이네요, Ralph. 현재 어떤 책을 읽고 계신가요?\n",
      "\n"
     ]
    }
   ],
   "source": [
    "# print(message_objects[6]['content'])\n",
    "# message_objects\n",
    "\n",
    "response = ''\n",
    "print(f'AI: {x}\\n')\n",
    "for i in range(5):\n",
    "    inp_prompt = input('Prompt:')\n",
    "    print(f'Input: {inp_prompt}\\n')\n",
    "    response = get_completion(inp_prompt)\n",
    "    message_objects.append({\"role\": \"assistant\", \"content\": response})\n",
    "    # print(inp_prompt)\n",
    "    time.sleep(5)\n",
    "    \n",
    "    print(f\"{message_objects[int(len(message_objects)-1)]['content']}\\n\")\n",
    "    "
   ]
  },
  {
   "cell_type": "markdown",
   "metadata": {},
   "source": [
    "Topic: Science; English / Russian Pair Trial; Beginner Level"
   ]
  },
  {
   "cell_type": "code",
   "execution_count": 4,
   "metadata": {},
   "outputs": [
    {
     "name": "stdout",
     "output_type": "stream",
     "text": [
      "AI: Hello Ralph, I'm your AI English teacher. It's nice to meet you! I'm here to help you improve your English. Since you're interested in science, let's start with that. Can you tell me what you find fascinating about science? / Здравствуйте, Ральф, я ваш учитель английского языка. Рад встрече с вами! Я здесь, чтобы помочь вам улучшить ваш английский. Поскольку вам интересна наука, давайте начнем с этого. Можете ли вы рассказать, что вас привлекает в науке?\n",
      "\n",
      "Input: I am loving sciencing because of albert einstein , he is great in science\n",
      "\n",
      "That's great, Ralph! You should say, \"I love science because of Albert Einstein. He is great in science.\" Who else in the field of science do you admire? / Это здорово, Ральф! Вы должны сказать: \"Я люблю науку из-за Альберта Эйнштейна. Он велик в науке.\" Кого еще в области науки вы восхищаетесь?\n",
      "\n",
      "Input: I like Stephen Hawking and his theory about the black holes.\n",
      "\n",
      "That's excellent, Ralph! You said it correctly. Stephen Hawking's theories about black holes are indeed fascinating. Can you tell me what you find most interesting about his theories? / Это отлично, Ральф! Вы правильно сказали. Теории Стивена Хокинга о черных дырах действительно увлекательны. Можете ли вы рассказать, что вам больше всего интересно в его теориях?\n",
      "\n",
      "Input: With his theory. we can be abling to study the black holes\n",
      "\n",
      "Good job, Ralph! Just a small correction: you should say, \"With his theory, we can study black holes.\" What do you think is the importance of studying black holes? / Хорошая работа, Ральф! Просто небольшая коррекция: вы должны сказать: \"С его теорией мы можем изучать черные дыры.\" Как вы думаете, какова важность изучения черных дыр?\n",
      "\n",
      "Input: Black holes are laboratories for testing fundamental theories that explain how the Universe works on the largest and the smallest scales.\n",
      "\n",
      "That's a perfect response, Ralph! You're absolutely right. Black holes indeed serve as laboratories for testing fundamental theories. What other scientific phenomena interest you? / Это идеальный ответ, Ральф! Вы абсолютно правы. Черные дыры действительно служат лабораториями для тестирования фундаментальных теорий. Какие другие научные явления вас интересуют?\n",
      "\n",
      "Input: I like how black holes are the basis of the general theory of relativity and I read it somewhere that \"Black holes are mathematical solutions to the Einstein equation.\"\n",
      "\n",
      "That's correct, Ralph! You could say, \"I like that black holes form the basis of the general theory of relativity. I read somewhere that 'Black holes are mathematical solutions to the Einstein equation.'\" What do you find most intriguing about the general theory of relativity? / Это верно, Ральф! Вы могли бы сказать: \"Мне нравится, что черные дыры лежат в основе общей теории относительности. Я где-то читал, что 'черные дыры - это математические решения уравнения Эйнштейна'\". Что вас больше всего интригует в общей теории относительности?\n",
      "\n"
     ]
    }
   ],
   "source": [
    "# print(message_objects[6]['content'])\n",
    "# message_objects\n",
    "\n",
    "response = ''\n",
    "print(f'AI: {x}\\n')\n",
    "for i in range(5):\n",
    "    inp_prompt = input('Prompt:')\n",
    "    print(f'Input: {inp_prompt}\\n')\n",
    "    response = get_completion(inp_prompt)\n",
    "    message_objects.append({\"role\": \"assistant\", \"content\": response})\n",
    "    # print(inp_prompt)\n",
    "    time.sleep(5)\n",
    "    \n",
    "    print(f\"{message_objects[int(len(message_objects)-1)]['content']}\\n\")\n",
    "    "
   ]
  },
  {
   "cell_type": "markdown",
   "metadata": {},
   "source": [
    "Topic: Science; English / Russian Pair Trial; Intermediate Level"
   ]
  },
  {
   "cell_type": "code",
   "execution_count": 6,
   "metadata": {},
   "outputs": [
    {
     "name": "stdout",
     "output_type": "stream",
     "text": [
      "AI: Hello Ralph, I'm your AI English teacher. It's nice to meet you! I'm here to help you improve your English. Since you're interested in science, let's start with that. What's your favorite scientific theory or concept? / Здравствуйте, Ральф, я ваш учитель английского языка. Рад встрече с вами! Я здесь, чтобы помочь вам усовершенствовать ваш английский. Поскольку вам интересна наука, давайте начнем с этого. Какая ваша любимая научная теория или концепция?\n",
      "\n",
      "Input: I am loving sciencing because of albert einstein , he is great in science\n",
      "\n",
      "That's great, Ralph! Albert Einstein is indeed a remarkable scientist. However, your sentence should be \"I love science because of Albert Einstein. He is great in science.\" What specific theory of Einstein do you find most fascinating? / Это здорово, Ральф! Альберт Эйнштейн действительно замечательный ученый. Однако ваше предложение должно звучать так: \"Я люблю науку из-за Альберта Эйнштейна. Он велик в науке.\" Какая конкретная теория Эйнштейна вас больше всего увлекает?\n",
      "\n",
      "Input: I like how this theory states that the same laws of physics hold true in all inertial reference frames and that the speed of light is the same for all observers, even those moving with respect to one anothe\n",
      "\n",
      "You're referring to Einstein's Theory of Relativity, which is indeed fascinating. Just a small correction: your sentence should end with \"one another.\" What do you find most intriguing about this theory? / Вы говорите о теории относительности Эйнштейна, которая действительно увлекательна. Просто небольшая коррекция: ваше предложение должно заканчиваться на \"друг друга\". Что вам наиболее интересно в этой теории?\n",
      "\n",
      "Input: The general understanding of human understanding on space, time, and gravity changed because of this theory.\n",
      "\n",
      "Absolutely, Ralph! Einstein's Theory of Relativity revolutionized our understanding of space, time, and gravity. However, your sentence should be \"The general understanding of space, time, and gravity changed because of this theory.\" What other scientific theories interest you? / Абсолютно верно, Ральф! Теория относительности Эйнштейна радикально изменила наше понимание пространства, времени и гравитации. Однако ваше предложение должно звучать так: \"Общее понимание пространства, времени и гравитации изменилось из-за этой теории.\" Какие другие научные теории вас интересуют?\n",
      "\n"
     ]
    }
   ],
   "source": [
    "# print(message_objects[6]['content'])\n",
    "# message_objects\n",
    "\n",
    "response = ''\n",
    "print(f'AI: {x}\\n')\n",
    "for i in range(5):\n",
    "    inp_prompt = input('Prompt:')\n",
    "    print(f'Input: {inp_prompt}\\n')\n",
    "    response = get_completion(inp_prompt)\n",
    "    message_objects.append({\"role\": \"assistant\", \"content\": response})\n",
    "    # print(inp_prompt)\n",
    "    time.sleep(5)\n",
    "    \n",
    "    print(f\"{message_objects[int(len(message_objects)-1)]['content']}\\n\")\n",
    "    "
   ]
  }
 ],
 "metadata": {
  "kernelspec": {
   "display_name": "myenv",
   "language": "python",
   "name": "python3"
  },
  "language_info": {
   "codemirror_mode": {
    "name": "ipython",
    "version": 3
   },
   "file_extension": ".py",
   "mimetype": "text/x-python",
   "name": "python",
   "nbconvert_exporter": "python",
   "pygments_lexer": "ipython3",
   "version": "3.9.17"
  },
  "orig_nbformat": 4
 },
 "nbformat": 4,
 "nbformat_minor": 2
}
