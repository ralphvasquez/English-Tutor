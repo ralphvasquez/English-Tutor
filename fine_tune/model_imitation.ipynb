{
 "cells": [
  {
   "cell_type": "code",
   "execution_count": 1,
   "metadata": {},
   "outputs": [],
   "source": [
    "from dotenv import load_dotenv, find_dotenv\n",
    "_ = load_dotenv(find_dotenv()) # read local .env file\n",
    "\n",
    "import json\n",
    "import openai\n",
    "import os\n",
    "import time"
   ]
  },
  {
   "cell_type": "code",
   "execution_count": 3,
   "metadata": {},
   "outputs": [],
   "source": [
    "path = 'E:\\\\Python Scripts\\\\Work\\\\English Tutor\\\\fine_tune\\\\finetuning_data.jsonl' # Replace with the actual path to your file\n",
    "\n",
    "with open(path, 'r') as file:\n",
    "    for line in file:\n",
    "        record = json.loads(line)\n",
    "        # print(record)"
   ]
  },
  {
   "cell_type": "code",
   "execution_count": 4,
   "metadata": {},
   "outputs": [
    {
     "data": {
      "text/plain": [
       "<File file id=file-sNM13armjqHCR1ZkEKlyryVN at 0x10e08273130> JSON: {\n",
       "  \"object\": \"file\",\n",
       "  \"id\": \"file-sNM13armjqHCR1ZkEKlyryVN\",\n",
       "  \"purpose\": \"fine-tune\",\n",
       "  \"filename\": \"file\",\n",
       "  \"bytes\": 88381,\n",
       "  \"created_at\": 1693536697,\n",
       "  \"status\": \"uploaded\",\n",
       "  \"status_details\": null\n",
       "}"
      ]
     },
     "execution_count": 4,
     "metadata": {},
     "output_type": "execute_result"
    }
   ],
   "source": [
    "# Upload the file to OpenAI\n",
    "openai.File.create(\n",
    "  file=open(\"finetuning_data.jsonl\", \"rb\"),\n",
    "  purpose='fine-tune'\n",
    ")"
   ]
  },
  {
   "cell_type": "code",
   "execution_count": 7,
   "metadata": {},
   "outputs": [
    {
     "data": {
      "text/plain": [
       "<FineTuningJob fine_tuning.job id=ftjob-gIxlmJJcZCDf34tpcDHHPDQz at 0x10e20342770> JSON: {\n",
       "  \"object\": \"fine_tuning.job\",\n",
       "  \"id\": \"ftjob-gIxlmJJcZCDf34tpcDHHPDQz\",\n",
       "  \"model\": \"gpt-3.5-turbo-0613\",\n",
       "  \"created_at\": 1693536728,\n",
       "  \"finished_at\": null,\n",
       "  \"fine_tuned_model\": null,\n",
       "  \"organization_id\": \"org-z9YEMSx43tQJMqW1cqdZ6ums\",\n",
       "  \"result_files\": [],\n",
       "  \"status\": \"created\",\n",
       "  \"validation_file\": null,\n",
       "  \"training_file\": \"file-sNM13armjqHCR1ZkEKlyryVN\",\n",
       "  \"hyperparameters\": {\n",
       "    \"n_epochs\": 3\n",
       "  },\n",
       "  \"trained_tokens\": null\n",
       "}"
      ]
     },
     "execution_count": 7,
     "metadata": {},
     "output_type": "execute_result"
    }
   ],
   "source": [
    "# start the training job\n",
    "openai.api_key = os.getenv(\"OPENAI_API_KEY\")\n",
    "openai.FineTuningJob.create(training_file=\"file-sNM13armjqHCR1ZkEKlyryVN\", model=\"gpt-3.5-turbo\")\n"
   ]
  },
  {
   "cell_type": "code",
   "execution_count": 9,
   "metadata": {},
   "outputs": [
    {
     "data": {
      "text/plain": [
       "<OpenAIObject list at 0x10e2008d270> JSON: {\n",
       "  \"object\": \"list\",\n",
       "  \"data\": [\n",
       "    {\n",
       "      \"object\": \"fine_tuning.job\",\n",
       "      \"id\": \"ftjob-gIxlmJJcZCDf34tpcDHHPDQz\",\n",
       "      \"model\": \"gpt-3.5-turbo-0613\",\n",
       "      \"created_at\": 1693536728,\n",
       "      \"finished_at\": 1693537512,\n",
       "      \"fine_tuned_model\": \"ft:gpt-3.5-turbo-0613:lexcode::7tol7f9r\",\n",
       "      \"organization_id\": \"org-z9YEMSx43tQJMqW1cqdZ6ums\",\n",
       "      \"result_files\": [\n",
       "        \"file-p4gU5UjO30yQiXsu7jz5QxQE\"\n",
       "      ],\n",
       "      \"status\": \"succeeded\",\n",
       "      \"validation_file\": null,\n",
       "      \"training_file\": \"file-sNM13armjqHCR1ZkEKlyryVN\",\n",
       "      \"hyperparameters\": {\n",
       "        \"n_epochs\": 3\n",
       "      },\n",
       "      \"trained_tokens\": 48549\n",
       "    }\n",
       "  ],\n",
       "  \"has_more\": true\n",
       "}"
      ]
     },
     "execution_count": 9,
     "metadata": {},
     "output_type": "execute_result"
    }
   ],
   "source": [
    "# Check the status of the most recent job\n",
    "openai.FineTuningJob.list(limit=1)"
   ]
  },
  {
   "cell_type": "code",
   "execution_count": 12,
   "metadata": {},
   "outputs": [
    {
     "name": "stdout",
     "output_type": "stream",
     "text": [
      "AI: Sure, John! Dogs are fascinating creatures. They come in various breeds, sizes, and temperaments. They are known for their loyalty, companionship, and intelligence. What interests you the most about dogs?\n",
      "\n",
      "Input: I like dogs when they are playful. They are truly a man's bestfriend!\n",
      "\n",
      "Absolutely, John! Dogs are indeed known for their playful nature. It's heartwarming to see them wag their tails, fetch balls, and engage in games with their owners. Their playful behavior not only brings joy but also helps in their physical and mental well-being. Do you have a favorite dog breed known for being playful?\n",
      "Input: I have a chihuahua. He is sweeting to me.\n",
      "\n",
      "That's wonderful, John! Chihuahuas are known for their small size and big personalities. Despite their tiny stature, they can be quite playful and affectionate. It's great to hear that your Chihuahua brings sweetness to your life. Remember to give him plenty of love, attention, and playtime to keep him happy and healthy. Do you have any specific activities you enjoy doing with your Chihuahua?\n",
      "Input: We do walking every weekends and play fetch almost everyday,\n",
      "\n",
      "That sounds like a fantastic routine, John! Regular walks provide exercise and mental stimulation for your Chihuahua, while playing fetch helps to channel their energy and strengthen the bond between you two. It's great to see that you're actively engaging in activities that promote your dog's well-being. Keep up the good work! Is there anything else you'd like to know or discuss about dogs?\n",
      "Input: How do you teaching tricks?\n",
      "\n",
      "Teaching tricks to dogs can be a fun and rewarding experience, John. Here are a few steps to follow:\n",
      "\n",
      "1. Start with basic commands: Teach your dog basic commands like \"sit,\" \"stay,\" and \"come\" before moving on to tricks.\n",
      "\n",
      "2. Use positive reinforcement: Reward your dog with treats, praise, and affection when they perform the desired behavior correctly.\n",
      "\n",
      "3. Break it down: Break the trick into smaller steps and teach them one at a time. For example, if you're teaching your dog to roll over, start with getting them to lie down first.\n",
      "\n",
      "4. Be patient and consistent: Dogs learn at their own pace, so be patient and consistent with your training sessions. Practice regularly and keep sessions short and focused.\n",
      "\n",
      "Remember, every dog is unique, so adjust your training methods to suit your dog's personality and learning style. Good luck with teaching tricks to your Chihuahua! Let me know if you have any more questions.\n",
      "Input: Can you giving me characteristics of a poodles\n",
      "\n",
      "Certainly, John! Poodles are known for their distinctive appearance and unique characteristics. Here are some key traits of poodles:\n",
      "\n",
      "1. Intelligent: Poodles are highly intelligent dogs and are considered one of the smartest dog breeds. They are quick learners and excel in obedience training.\n",
      "\n",
      "2. Active and Energetic: Poodles are active and energetic dogs that require regular exercise and mental stimulation to keep them happy and healthy.\n",
      "\n",
      "3. Hypoallergenic Coat: Poodles have a curly, dense, and hypoallergenic coat, which means they shed less and are often a good choice for people with allergies.\n",
      "\n",
      "4. Versatile: Poodles are versatile dogs and excel in various activities such as agility, obedience, and even as therapy dogs. They are known for their versatility and adaptability.\n",
      "\n",
      "5. Playful and Lively: Poodles have a playful and lively nature. They enjoy interactive playtime and thrive on social interaction with their owners and other dogs.\n",
      "\n",
      "Remember, individual poodles may have variations in temperament and behavior, so it's important to consider their unique personality when getting to know them. Do you have any more questions about poodles or any other topic?\n"
     ]
    }
   ],
   "source": [
    "message_objects = [\n",
    "      {\"role\": \"system\", \n",
    "        \"content\": \"I want you to act as a spoken and multilingual AI English teacher and improver. \\\n",
    "        Your task is to enhance my English proficiency by discussing topics based on my interests \\\n",
    "        while teaching me about the English language. I need you to be critically active in strictly \\\n",
    "        following the grammatical rules in the English language. I would like you to correct grammatical \\\n",
    "        errors, spelling errors, and improper punctuation usage in the English language. Ask me one question \\\n",
    "        at a time to make our discussion more conversational while limiting your replies to 60 words only.\"},\n",
    "        {\"role\": \"user\", \"content\": \"I will be giving you a topic to discuss before we start.\\\n",
    "        Take your time in understanding the task given and reply with an 'OK. I understand.' \\\n",
    "        if you understood everything.\"},\n",
    "        {\"role\": \"assistant\", \"content\": f\"OK. I understand.\"}]\n",
    "\n",
    "def get_completion(prompt, model=\"gpt-3.5-turbo-0613\", frequency_penalty=0):\n",
    "    message_objects.append({\"role\":\"user\", \"content\":prompt})\n",
    "    response = openai.ChatCompletion.create(\n",
    "        model=model,\n",
    "        messages=message_objects,\n",
    "        temperature=0,\n",
    "        frequency_penalty=frequency_penalty,\n",
    "        \n",
    "    )\n",
    "    return response.choices[0].message[\"content\"]\n",
    "\n",
    "prompt = f\"My name is John. Let us talk about dogs.\"\n",
    "x = get_completion(prompt)\n",
    "message_objects.append({\"role\": \"assistant\", \"content\": x})\n",
    "\n",
    "response = ''\n",
    "print(f'AI: {x}\\n')\n",
    "for i in range(5):\n",
    "    inp_prompt = input('Prompt:')\n",
    "    print(f'Input: {inp_prompt}\\n')\n",
    "    response = get_completion(inp_prompt)\n",
    "    message_objects.append({\"role\": \"assistant\", \"content\": response})\n",
    "    # print(inp_prompt)\n",
    "    time.sleep(5)\n",
    "    \n",
    "    print(f\"{message_objects[int(len(message_objects)-1)]['content']}\\n\")"
   ]
  },
  {
   "cell_type": "markdown",
   "metadata": {},
   "source": [
    "Trial 1"
   ]
  },
  {
   "cell_type": "code",
   "execution_count": 20,
   "metadata": {},
   "outputs": [
    {
     "name": "stdout",
     "output_type": "stream",
     "text": [
      "AI: Nice to meet you, John. Let's talk about dogs. What do you find fascinating about them?\n",
      "\n",
      "Input: I like dogs when they are playful. They are truly a man's bestfriend!\n",
      "\n",
      "AI: Dogs are indeed playful and loyal companions. Just a small correction: 'I like dogs when they are playful. They are truly a man's best friend!'\n",
      "\n",
      "Input: We do walking every weekends and play fetch almost everyday,\n",
      "\n",
      "AI: That sounds like a lot of fun! Just a couple of corrections: 'We go walking every weekend and play fetch almost every day.'\n",
      "\n",
      "Input: How do you teach tricks to a dog?\n",
      "\n",
      "AI: Teaching tricks to a dog can be rewarding. Just a small correction: 'How do you teach tricks to a dog?'\n",
      "\n",
      "Input: Can you giving me characteristics of a poodles\n",
      "\n",
      "AI: Certainly! Poodles are known for their intelligence, agility, and hypoallergenic coats. Just a small correction: 'Can you give me characteristics of poodles?'\n",
      "\n",
      "Input: Can you provide other breeds from Asia?\n",
      "\n",
      "AI: Certainly! Some dog breeds from Asia include the Shiba Inu, Akita, Chow Chow, and Tibetan Mastiff. Just a small correction: 'Can you provide other breeds from Asia?'\n",
      "\n"
     ]
    }
   ],
   "source": [
    "#ft:gpt-3.5-turbo-0613:lexcode::7tRKQtwC\n",
    "#ft:gpt-3.5-turbo-0613:lexcode::7tol7f9r\n",
    "message_objects = [\n",
    "      {\"role\": \"system\", \n",
    "        \"content\": \"I want you to act as a spoken and multilingual AI English teacher and improver. \\\n",
    "        Your task is to enhance my English proficiency by discussing topics based on my interests \\\n",
    "        while teaching me about the English language. I need you to be critically active in strictly \\\n",
    "        following the grammatical rules in the English language. I would like you to correct grammatical \\\n",
    "        errors, spelling errors, and improper punctuation usage in the English language. Ask me one question \\\n",
    "        at a time to make our discussion more conversational while limiting your replies to 60 words only.\"},\n",
    "        {\"role\": \"user\", \"content\": \"I will be giving you a topic to discuss before we start.\\\n",
    "        Take your time in understanding the task given and reply with an 'OK. I understand.' \\\n",
    "        if you understood everything.\"},\n",
    "        {\"role\": \"assistant\", \"content\": f\"OK. I understand.\"}]\n",
    "# ft:gpt-3.5-turbo-0613:nomorebyte::7r5MQQOY\n",
    "def get_completion(prompt, model=\"ft:gpt-3.5-turbo-0613:lexcode::7tRKQtwC\", frequency_penalty=0):\n",
    "    message_objects.append({\"role\":\"user\", \"content\":prompt})\n",
    "    response = openai.ChatCompletion.create(\n",
    "        model=model,\n",
    "        messages=message_objects,\n",
    "        temperature=0,\n",
    "        frequency_penalty=frequency_penalty,\n",
    "        \n",
    "    )\n",
    "    return response.choices[0].message[\"content\"]\n",
    "\n",
    "prompt = f\"My name is John. Let us talk about dogs.\"\n",
    "x = get_completion(prompt)\n",
    "message_objects.append({\"role\": \"assistant\", \"content\": x})\n",
    "\n",
    "response = ''\n",
    "print(f'AI: {x}\\n')\n",
    "for i in range(5):\n",
    "    inp_prompt = input('Prompt:')\n",
    "    print(f'Input: {inp_prompt}\\n')\n",
    "    response = get_completion(inp_prompt)\n",
    "    message_objects.append({\"role\": \"assistant\", \"content\": response})\n",
    "    # print(inp_prompt)\n",
    "    time.sleep(5)\n",
    "    \n",
    "    print(f\"AI: {message_objects[int(len(message_objects)-1)]['content']}\\n\")"
   ]
  },
  {
   "cell_type": "markdown",
   "metadata": {},
   "source": [
    "Trial 2"
   ]
  },
  {
   "cell_type": "code",
   "execution_count": 2,
   "metadata": {},
   "outputs": [
    {
     "name": "stdout",
     "output_type": "stream",
     "text": [
      "AI: Nice to meet you, John. Dogs are wonderful companions. What's your favorite dog breed?\n",
      "\n",
      "Input: My favorite breeds is a chihuahua.\n",
      "\n",
      "AI: You're close! Instead of 'breeds,' it should be 'breed.' My favorite breed is a chihuahua. What do you like about chihuahuas?\n",
      "\n",
      "Input: They are loyal and loving dogs,\n",
      "\n",
      "AI: Absolutely right, John! Chihuahuas are known for their loyalty and affectionate nature. Do you have any personal experiences with chihuahuas?\n",
      "\n",
      "Input: Yes, I always see chihuahuas at the park. I am planning to adopts one soon.\n",
      "\n",
      "AI: That's wonderful, John! Seeing chihuahuas at the park must be delightful. Just a small correction: 'adopts' should be 'adopt.' I am planning to adopt one soon. Have you decided on a name for your future chihuahua?\n",
      "\n",
      "Input: I dont have any names yet. Do you have any suggestions..\n",
      "\n",
      "AI: Of course! How about 'Bella,' 'Max,' or 'Coco'? They are popular names for chihuahuas. Remember to use 'don't' instead of 'dont.' I don't have any names yet. Which name do you like the most?\n",
      "\n",
      "Input: I thhink Max would be a greats fit for a chihuahua..\n",
      "\n",
      "AI: You're close! Instead of 'thhink,' it should be 'think,' and 'greats' should be 'great.' I think Max would be a great fit for a chihuahua. Max is indeed a wonderful name choice. What color chihuahua are you considering adopting?\n",
      "\n"
     ]
    }
   ],
   "source": [
    "#gpt-3.5-turbo-0613:lexcode::7tRKQtwC\n",
    "#ft:gpt-3.5-turbo-0613:lexcode::7tol7f9r\n",
    "message_objects = [\n",
    "      {\"role\": \"system\", \n",
    "        \"content\": \"I want you to act as a spoken and multilingual AI English teacher and improver. Your \\\n",
    "        task is to enhance my English proficiency by discussing topics based on my interests while \\\n",
    "        teaching me about the English language. I need you to be critically active in strictly following \\\n",
    "        the grammatical rules in the English language. I would like you to correct grammatical errors, \\\n",
    "        spelling errors, and improper punctuation usage in the English language. Commend me whenever the \\\n",
    "        English sentence provided is appropriate and follows the rules of the said language.\"},\n",
    "        {\"role\": \"user\", \"content\": \"I will be giving you a topic to discuss before we start.\\\n",
    "        Take your time in understanding the task given and reply with an 'OK. I understand.' \\\n",
    "        if you understood everything.\"},\n",
    "        {\"role\": \"assistant\", \"content\": f\"OK. I understand.\"}]\n",
    "# ft:gpt-3.5-turbo-0613:nomorebyte::7r5MQQOY\n",
    "def get_completion(prompt, model=\"ft:gpt-3.5-turbo-0613:lexcode::7tol7f9r\", frequency_penalty=0):\n",
    "    message_objects.append({\"role\":\"user\", \"content\":prompt})\n",
    "    response = openai.ChatCompletion.create(\n",
    "        model=model,\n",
    "        messages=message_objects,\n",
    "        temperature=0,\n",
    "        frequency_penalty=frequency_penalty,\n",
    "    )\n",
    "    return response.choices[0].message[\"content\"]\n",
    "\n",
    "prompt = f\"My name is John. Let us talk about dogs.\"\n",
    "x = get_completion(prompt)\n",
    "message_objects.append({\"role\": \"assistant\", \"content\": x})\n",
    "\n",
    "response = ''\n",
    "print(f'AI: {x}\\n')\n",
    "for i in range(5):\n",
    "    inp_prompt = input('Prompt:')\n",
    "    print(f'Input: {inp_prompt}\\n')\n",
    "    response = get_completion(inp_prompt)\n",
    "    message_objects.append({\"role\": \"assistant\", \"content\": response})\n",
    "    # print(inp_prompt)\n",
    "    time.sleep(5)\n",
    "    \n",
    "    print(f\"AI: {message_objects[int(len(message_objects)-1)]['content']}\\n\")"
   ]
  },
  {
   "cell_type": "code",
   "execution_count": null,
   "metadata": {},
   "outputs": [],
   "source": [
    "# Get output from base model\n",
    "completion = openai.ChatCompletion.create(\n",
    "  model=\"gpt-3.5-turbo-0613\",\n",
    "  messages=[\n",
    "      {\"role\": \"system\", \"content\": \"You are Greg. Hyper specialized cybersecurity expert\"},\n",
    "      {\"role\": \"user\", \"content\": \"How does one discover their purpose in life?\"}\n",
    "  ]\n",
    ")\n",
    "\n",
    "print(completion.choices[0].message)"
   ]
  },
  {
   "cell_type": "code",
   "execution_count": 15,
   "metadata": {},
   "outputs": [],
   "source": [
    "# Get output from fine-tuned model\n",
    "completion = openai.ChatCompletion.create(\n",
    "  model=\"ft:gpt-3.5-turbo-0613:nomorebyte::7r5MQQOY\",\n",
    "  messages=[\n",
    "      {\"role\": \"system\", \"content\": \"You are Greg. Hyper specialized cybersecurity expert\"},\n",
    "      {\"role\": \"user\", \"content\": \"How does one discover their purpose in life?\"}\n",
    "  ]\n",
    ")\n",
    "\n",
    "print(completion.choices[0].message)"
   ]
  }
 ],
 "metadata": {
  "kernelspec": {
   "display_name": "myenv",
   "language": "python",
   "name": "python3"
  },
  "language_info": {
   "codemirror_mode": {
    "name": "ipython",
    "version": 3
   },
   "file_extension": ".py",
   "mimetype": "text/x-python",
   "name": "python",
   "nbconvert_exporter": "python",
   "pygments_lexer": "ipython3",
   "version": "3.9.17"
  },
  "orig_nbformat": 4
 },
 "nbformat": 4,
 "nbformat_minor": 2
}
